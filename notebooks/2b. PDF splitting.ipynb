{
 "cells": [
  {
   "cell_type": "markdown",
   "metadata": {},
   "source": [
    "\n",
    "# PDF splitting\n"
   ]
  },
  {
   "cell_type": "code",
   "execution_count": 7,
   "metadata": {},
   "outputs": [],
   "source": [
    "from ricecooker.utils.pdf import PDFParser"
   ]
  },
  {
   "cell_type": "code",
   "execution_count": null,
   "metadata": {},
   "outputs": [],
   "source": []
  },
  {
   "cell_type": "code",
   "execution_count": 8,
   "metadata": {},
   "outputs": [],
   "source": [
    "# path single-column PDF\n",
    "pdf_path = 'downloads/21CSGuide_English_converted.pdf'\n",
    "split_path = 'downloads/21CSGuide_English_split/'\n",
    "\n",
    "\n",
    "# must run notebooks/2. PDF cropping.ipynb before this..."
   ]
  },
  {
   "cell_type": "markdown",
   "metadata": {},
   "source": [
    "### Using the `PDFParser` class\n",
    "\n"
   ]
  },
  {
   "cell_type": "code",
   "execution_count": null,
   "metadata": {},
   "outputs": [],
   "source": []
  },
  {
   "cell_type": "code",
   "execution_count": 9,
   "metadata": {},
   "outputs": [
    {
     "name": "stdout",
     "output_type": "stream",
     "text": [
      "[]\n"
     ]
    }
   ],
   "source": [
    "# No table of contents detected automatically...\n",
    "with PDFParser(pdf_path) as pdfparser:\n",
    "    chapters = pdfparser.split_chapters()\n",
    "    print(chapters)"
   ]
  },
  {
   "cell_type": "code",
   "execution_count": null,
   "metadata": {},
   "outputs": [],
   "source": []
  },
  {
   "cell_type": "markdown",
   "metadata": {},
   "source": [
    "### Manually prepare list where to split document\n",
    "\n",
    "Note the tile, page start, and page end must be manually determined by viewing the PDF document and choosing the appropriate places to cut.\n",
    "\n",
    "I did a few chapters to provide a sample (note 0-based indexing)."
   ]
  },
  {
   "cell_type": "code",
   "execution_count": 10,
   "metadata": {},
   "outputs": [],
   "source": [
    "page_ranges = [\n",
    "    {'title': 'Front Matter', 'page_start': 0, 'page_end': 13},\n",
    "    {'title': 'Section 1 - Setting a Vision for Your 21st Century Learning Classroom', 'page_start': 13, 'page_end': 21},\n",
    "    {'title': 'Section 2 - 21st Century Mindsets and Practices', 'page_start': 21, 'page_end': 61, \n",
    "     'children': [\n",
    "         {'title': 'Mindset #1: Mindfulness', 'page_start': 23, 'page_end': 31},\n",
    "         {'title': 'Mindset #2: Curiousity', 'page_start': 31, 'page_end': 37},\n",
    "         {'title': 'Mindset #3: Growth', 'page_start': 37, 'page_end': 41},\n",
    "         {'title': 'Mindset #4: Empathy', 'page_start': 41, 'page_end': 47},\n",
    "         {'title': 'Mindset #5: Appreciation', 'page_start': 47, 'page_end': 51},\n",
    "         {'title': 'Mindset #6: Experimentation', 'page_start': 51, 'page_end': 57},\n",
    "         {'title': 'Mindset #7: Systems Thinking', 'page_start': 57, 'page_end': 61},\n",
    "     ]\n",
    "    },\n",
    "    {'title': 'Section 3 - 21st Century Skills', 'page_start': 61, 'page_end': 69},\n",
    "    {'title': 'Section 4 - Self-Discovery', 'page_start': 69, 'page_end': 95},\n",
    "    {'title': 'Section 5 - 21st Century Skills Building For Teachers', 'page_start': 95, 'page_end': 109},\n",
    "    {'title': 'Section 6 - Integrating 21st Century Skills Into Your Classroom', 'page_start': 109, 'page_end': 135},\n",
    "    {'title': 'Thanks To Our Teachers', 'page_start': 135, 'page_end': 137},\n",
    "]\n"
   ]
  },
  {
   "cell_type": "code",
   "execution_count": 11,
   "metadata": {},
   "outputs": [
    {
     "name": "stdout",
     "output_type": "stream",
     "text": [
      "{'title': 'Front Matter', 'path': 'downloads/21CSGuide_English_split//0-Front-Matter.pdf'}\n",
      "{'title': 'Section 1 - Setting a Vision for Your 21st Century Learning Classroom', 'path': 'downloads/21CSGuide_English_split//1-Section-1---Setting-a-Vision-for-Your-21st-Century-Learning-Classroom.pdf'}\n",
      "{'title': 'Section 2 - 21st Century Mindsets and Practices', 'children': [{'title': 'Section 2 - 21st Century Mindsets and Practices', 'path': 'downloads/21CSGuide_English_split//2-Section-2---21st-Century-Mindsets-and-Practices.pdf'}, {'title': 'Mindset #1: Mindfulness', 'path': 'downloads/21CSGuide_English_split//2-0-Mindset-1-Mindfulness.pdf'}, {'title': 'Mindset #2: Curiousity', 'path': 'downloads/21CSGuide_English_split//2-1-Mindset-2-Curiousity.pdf'}, {'title': 'Mindset #3: Growth', 'path': 'downloads/21CSGuide_English_split//2-2-Mindset-3-Growth.pdf'}, {'title': 'Mindset #4: Empathy', 'path': 'downloads/21CSGuide_English_split//2-3-Mindset-4-Empathy.pdf'}, {'title': 'Mindset #5: Appreciation', 'path': 'downloads/21CSGuide_English_split//2-4-Mindset-5-Appreciation.pdf'}, {'title': 'Mindset #6: Experimentation', 'path': 'downloads/21CSGuide_English_split//2-5-Mindset-6-Experimentation.pdf'}, {'title': 'Mindset #7: Systems Thinking', 'path': 'downloads/21CSGuide_English_split//2-6-Mindset-7-Systems-Thinking.pdf'}]}\n",
      "{'title': 'Section 3 - 21st Century Skills', 'path': 'downloads/21CSGuide_English_split//3-Section-3---21st-Century-Skills.pdf'}\n",
      "{'title': 'Section 4 - Self-Discovery', 'path': 'downloads/21CSGuide_English_split//4-Section-4---Self-Discovery.pdf'}\n",
      "{'title': 'Section 5 - 21st Century Skills Building For Teachers', 'path': 'downloads/21CSGuide_English_split//5-Section-5---21st-Century-Skills-Building-For-Teachers.pdf'}\n",
      "{'title': 'Section 6 - Integrating 21st Century Skills Into Your Classroom', 'path': 'downloads/21CSGuide_English_split//6-Section-6---Integrating-21st-Century-Skills-Into-Your-Classroom.pdf'}\n",
      "{'title': 'Thanks To Our Teachers', 'path': 'downloads/21CSGuide_English_split//7-Thanks-To-Our-Teachers.pdf'}\n"
     ]
    }
   ],
   "source": [
    "with PDFParser(pdf_path, directory=split_path) as pdfparser:\n",
    "    chapters = pdfparser.split_subchapters(jsondata=page_ranges)\n",
    "    for chapter in chapters:\n",
    "        print(chapter)"
   ]
  },
  {
   "cell_type": "code",
   "execution_count": 12,
   "metadata": {},
   "outputs": [
    {
     "name": "stdout",
     "output_type": "stream",
     "text": [
      "21CSGuide_English.pdf\r\n",
      "\u001b[34m21CSGuide_English_converted\u001b[m\u001b[m\r\n",
      "21CSGuide_English_converted.pdf\r\n",
      "21CSGuide_English_cropped.pdf\r\n",
      "\u001b[34m21CSGuide_English_split\u001b[m\u001b[m\r\n",
      "\u001b[34m21CSGuide_English_split copy\u001b[m\u001b[m\r\n"
     ]
    }
   ],
   "source": [
    "# Split PDF outputs are placed in the downloads folder:\n",
    "!ls -1 downloads/"
   ]
  },
  {
   "cell_type": "code",
   "execution_count": null,
   "metadata": {},
   "outputs": [],
   "source": []
  },
  {
   "cell_type": "markdown",
   "metadata": {},
   "source": [
    "### Next steps\n",
    "\n",
    "1. Create a TopicNode (folder) for the books as a whole\n",
    "2. Create a DocumentNode from each of the chapters PDF\n",
    "\n",
    "see example code in docs https://ricecooker.readthedocs.io/en/latest/pdfutils.html#split-into-chapters \n",
    "or here https://github.com/learningequality/sushi-chef-goalkicker-tech-books/blob/master/sushichef.py#L82-L106 "
   ]
  },
  {
   "cell_type": "markdown",
   "metadata": {},
   "source": [
    "##### "
   ]
  }
 ],
 "metadata": {
  "celltoolbar": "Edit Metadata",
  "kernelspec": {
   "display_name": "Python 3",
   "language": "python",
   "name": "python3"
  },
  "language_info": {
   "codemirror_mode": {
    "name": "ipython",
    "version": 3
   },
   "file_extension": ".py",
   "mimetype": "text/x-python",
   "name": "python",
   "nbconvert_exporter": "python",
   "pygments_lexer": "ipython3",
   "version": "3.7.4"
  }
 },
 "nbformat": 4,
 "nbformat_minor": 2
}
