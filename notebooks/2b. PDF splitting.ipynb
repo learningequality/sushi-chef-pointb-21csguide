{
 "cells": [
  {
   "cell_type": "markdown",
   "metadata": {},
   "source": [
    "\n",
    "# PDF splitting\n"
   ]
  },
  {
   "cell_type": "code",
   "execution_count": 1,
   "metadata": {},
   "outputs": [],
   "source": [
    "from ricecooker.utils.pdf import PDFParser"
   ]
  },
  {
   "cell_type": "code",
   "execution_count": null,
   "metadata": {},
   "outputs": [],
   "source": []
  },
  {
   "cell_type": "code",
   "execution_count": 2,
   "metadata": {},
   "outputs": [],
   "source": [
    "# path single-column PDF\n",
    "pdf_path = 'downloads/21CSGuide_English_converted.pdf'\n",
    "\n",
    "\n",
    "# must run notebooks/2. PDF cropping.ipynb before this..."
   ]
  },
  {
   "cell_type": "markdown",
   "metadata": {},
   "source": [
    "### Using the `PDFParser` class\n",
    "\n"
   ]
  },
  {
   "cell_type": "code",
   "execution_count": null,
   "metadata": {},
   "outputs": [],
   "source": []
  },
  {
   "cell_type": "code",
   "execution_count": 3,
   "metadata": {},
   "outputs": [
    {
     "name": "stdout",
     "output_type": "stream",
     "text": [
      "[]\n"
     ]
    }
   ],
   "source": [
    "# No table of contents detected automatically...\n",
    "with PDFParser(pdf_path) as pdfparser:\n",
    "    chapters = pdfparser.split_chapters()\n",
    "    print(chapters)"
   ]
  },
  {
   "cell_type": "code",
   "execution_count": null,
   "metadata": {},
   "outputs": [],
   "source": []
  },
  {
   "cell_type": "markdown",
   "metadata": {},
   "source": [
    "### Manually prepare list where to split document\n",
    "\n",
    "Note the tile, page start, and page end must be manually determined by viewing the PDF document and choosing the appropriate places to cut.\n",
    "\n",
    "I did a few chapters to provide a sample (note 0-baded indexing)."
   ]
  },
  {
   "cell_type": "code",
   "execution_count": 4,
   "metadata": {},
   "outputs": [],
   "source": [
    "page_ranges =  [\n",
    "  {'title': 'Front matter',            'page_start': 0,  'page_end': 10},\n",
    "  {'title': 'Setting a vision',        'page_start': 13, 'page_end': 22},\n",
    "  {'title': 'Mindesets & Practices',   'page_start': 22, 'page_end': 23},\n",
    "  {'title': 'Mindeset 1. Mindfulness', 'page_start': 23, 'page_end': 32},\n",
    "  {'title': 'Mindeset 2. Curiosity',   'page_start': 32, 'page_end': 37},\n",
    "  # TODO: continue with the rest of the chapters\n",
    "]\n"
   ]
  },
  {
   "cell_type": "code",
   "execution_count": 5,
   "metadata": {},
   "outputs": [
    {
     "name": "stdout",
     "output_type": "stream",
     "text": [
      "{'title': 'Front matter', 'path': 'downloads/0-Front-matter.pdf'}\n",
      "{'title': 'Setting a vision', 'path': 'downloads/1-Setting-a-vision.pdf'}\n",
      "{'title': 'Mindesets & Practices', 'path': 'downloads/2-Mindesets--Practices.pdf'}\n",
      "{'title': 'Mindeset 1. Mindfulness', 'path': 'downloads/3-Mindeset-1-Mindfulness.pdf'}\n",
      "{'title': 'Mindeset 2. Curiosity', 'path': 'downloads/4-Mindeset-2-Curiosity.pdf'}\n"
     ]
    }
   ],
   "source": [
    "with PDFParser(pdf_path) as pdfparser:\n",
    "    chapters = pdfparser.split_chapters(jsondata=page_ranges)\n",
    "    for chapter in chapters:\n",
    "        print(chapter)"
   ]
  },
  {
   "cell_type": "code",
   "execution_count": 6,
   "metadata": {},
   "outputs": [
    {
     "name": "stdout",
     "output_type": "stream",
     "text": [
      "0-Front-matter.pdf\r\n",
      "1-Setting-a-vision.pdf\r\n",
      "2-Mindesets--Practices.pdf\r\n",
      "\u001b[34m21CSGuide_English_converted\u001b[m\u001b[m\r\n",
      "3-Mindeset-1-Mindfulness.pdf\r\n",
      "4-Mindeset-2-Curiosity.pdf\r\n"
     ]
    }
   ],
   "source": [
    "# Split PDF outputs are placed in the downloads folder:\n",
    "!ls -1 downloads/"
   ]
  },
  {
   "cell_type": "code",
   "execution_count": null,
   "metadata": {},
   "outputs": [],
   "source": []
  },
  {
   "cell_type": "markdown",
   "metadata": {},
   "source": [
    "### Next steps\n",
    "\n",
    "1. Create a TopicNode (folder) for the books as a whole\n",
    "2. Create a DocumentNode from each of the chapters PDF\n",
    "\n",
    "see example code in docs https://ricecooker.readthedocs.io/en/latest/pdfutils.html#split-into-chapters \n",
    "or here https://github.com/learningequality/sushi-chef-goalkicker-tech-books/blob/master/sushichef.py#L82-L106 "
   ]
  },
  {
   "cell_type": "code",
   "execution_count": null,
   "metadata": {},
   "outputs": [],
   "source": []
  },
  {
   "cell_type": "code",
   "execution_count": null,
   "metadata": {},
   "outputs": [],
   "source": []
  },
  {
   "cell_type": "code",
   "execution_count": null,
   "metadata": {},
   "outputs": [],
   "source": []
  }
 ],
 "metadata": {
  "kernelspec": {
   "display_name": "Python 3",
   "language": "python",
   "name": "python3"
  },
  "language_info": {
   "codemirror_mode": {
    "name": "ipython",
    "version": 3
   },
   "file_extension": ".py",
   "mimetype": "text/x-python",
   "name": "python",
   "nbconvert_exporter": "python",
   "pygments_lexer": "ipython3",
   "version": "3.7.3"
  }
 },
 "nbformat": 4,
 "nbformat_minor": 2
}
