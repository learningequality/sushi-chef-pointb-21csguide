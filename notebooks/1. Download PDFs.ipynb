{
 "cells": [
  {
   "cell_type": "code",
   "execution_count": 1,
   "metadata": {},
   "outputs": [],
   "source": [
    "import requests"
   ]
  },
  {
   "cell_type": "code",
   "execution_count": 2,
   "metadata": {},
   "outputs": [],
   "source": [
    "\n",
    "pdf_url_en = 'http://www.pointb.is/s/21CSGuide_English.pdf'\n",
    "pdf_url_mm = 'http://www.pointb.is/s/21CSGuide_Myanmar.pdf'\n",
    "\n"
   ]
  },
  {
   "cell_type": "code",
   "execution_count": 4,
   "metadata": {},
   "outputs": [],
   "source": [
    "response = requests.get(pdf_url_en)\n",
    "\n",
    "assert response.status_code == 200\n",
    "\n",
    "with open('downloads/21CSGuide_English.pdf', 'wb') as pdf_file:\n",
    "    pdf_file.write(response.content)\n",
    "\n",
    "\n",
    "# Useful response attributes:\n",
    "# response.content --> bytes\n",
    "# response.text    --> unicode\n",
    "# response.json    --> parses json content in response.text and converts to dictionary object"
   ]
  },
  {
   "cell_type": "code",
   "execution_count": null,
   "metadata": {},
   "outputs": [],
   "source": []
  }
 ],
 "metadata": {
  "kernelspec": {
   "display_name": "Python 3",
   "language": "python",
   "name": "python3"
  },
  "language_info": {
   "codemirror_mode": {
    "name": "ipython",
    "version": 3
   },
   "file_extension": ".py",
   "mimetype": "text/x-python",
   "name": "python",
   "nbconvert_exporter": "python",
   "pygments_lexer": "ipython3",
   "version": "3.7.4"
  }
 },
 "nbformat": 4,
 "nbformat_minor": 2
}
