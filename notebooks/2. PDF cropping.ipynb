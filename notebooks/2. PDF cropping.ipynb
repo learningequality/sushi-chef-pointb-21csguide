{
 "cells": [
  {
   "cell_type": "markdown",
   "metadata": {},
   "source": [
    "\n",
    "# Crop PDF into left- and right-halves"
   ]
  },
  {
   "cell_type": "code",
   "execution_count": null,
   "metadata": {},
   "outputs": [],
   "source": []
  },
  {
   "cell_type": "markdown",
   "metadata": {},
   "source": [
    "### Using the function `split_left_right_pages`"
   ]
  },
  {
   "cell_type": "code",
   "execution_count": 1,
   "metadata": {},
   "outputs": [],
   "source": [
    "from sushichef import split_left_right_pages"
   ]
  },
  {
   "cell_type": "code",
   "execution_count": 2,
   "metadata": {},
   "outputs": [],
   "source": [
    "pdf_file_path_in = 'downloads/21CSGuide_English.pdf'\n",
    "pdf_file_path_out = pdf_file_path_in.replace('.pdf', '_converted.pdf')\n",
    "split_left_right_pages(pdf_file_path_in, pdf_file_path_out)"
   ]
  },
  {
   "cell_type": "code",
   "execution_count": 3,
   "metadata": {},
   "outputs": [
    {
     "data": {
      "text/plain": [
       "'downloads/21CSGuide_English_converted.pdf'"
      ]
     },
     "execution_count": 3,
     "metadata": {},
     "output_type": "execute_result"
    }
   ],
   "source": [
    "pdf_file_path_out"
   ]
  },
  {
   "cell_type": "code",
   "execution_count": 4,
   "metadata": {},
   "outputs": [],
   "source": [
    "!open downloads/21CSGuide_English_converted.pdf"
   ]
  },
  {
   "cell_type": "code",
   "execution_count": null,
   "metadata": {},
   "outputs": [],
   "source": []
  },
  {
   "cell_type": "code",
   "execution_count": null,
   "metadata": {},
   "outputs": [],
   "source": []
  },
  {
   "cell_type": "markdown",
   "metadata": {},
   "source": [
    "### Development of the function `split_left_right_pages`"
   ]
  },
  {
   "cell_type": "code",
   "execution_count": 5,
   "metadata": {},
   "outputs": [],
   "source": [
    "from PyPDF2 import PdfFileReader, PdfFileWriter\n",
    "import copy\n"
   ]
  },
  {
   "cell_type": "code",
   "execution_count": 6,
   "metadata": {},
   "outputs": [],
   "source": [
    "pdf_file_path = 'downloads/21CSGuide_English.pdf'\n",
    "\n",
    "pdfin1 = PdfFileReader(open(pdf_file_path,'rb'))  # used for left pages\n",
    "pdfin2 = PdfFileReader(open(pdf_file_path,'rb'))  # used for right pages\n",
    "num_pages = pdfin1.getNumPages()"
   ]
  },
  {
   "cell_type": "code",
   "execution_count": 7,
   "metadata": {},
   "outputs": [
    {
     "data": {
      "text/plain": [
       "71"
      ]
     },
     "execution_count": 7,
     "metadata": {},
     "output_type": "execute_result"
    }
   ],
   "source": [
    "num_pages"
   ]
  },
  {
   "cell_type": "code",
   "execution_count": null,
   "metadata": {},
   "outputs": [],
   "source": []
  },
  {
   "cell_type": "markdown",
   "metadata": {},
   "source": [
    "Relevant info\n",
    " - https://www.prepressure.com/pdf/basics/page-boxes\n",
    " - https://pythonhosted.org/PyPDF2/PageObject.html\n",
    " - https://stackoverflow.com/questions/457207/cropping-pages-of-a-pdf-file\n",
    " - https://github.com/mstamy2/PyPDF2/issues/100#issuecomment-276638674\n",
    " \n"
   ]
  },
  {
   "cell_type": "code",
   "execution_count": 8,
   "metadata": {},
   "outputs": [
    {
     "name": "stdout",
     "output_type": "stream",
     "text": [
      "1332.28 720.0\n"
     ]
    }
   ],
   "source": [
    "page = pdfin1.getPage(2)\n",
    "print(page.mediaBox.getUpperRight_x(), page.mediaBox.getUpperRight_y())"
   ]
  },
  {
   "cell_type": "code",
   "execution_count": 9,
   "metadata": {},
   "outputs": [
    {
     "data": {
      "text/plain": [
       "RectangleObject([0, 0, 1332.28, 720])"
      ]
     },
     "execution_count": 9,
     "metadata": {},
     "output_type": "execute_result"
    }
   ],
   "source": [
    "page.mediaBox"
   ]
  },
  {
   "cell_type": "code",
   "execution_count": 10,
   "metadata": {},
   "outputs": [
    {
     "data": {
      "text/plain": [
       "RectangleObject([0, 0, 1332.28, 720])"
      ]
     },
     "execution_count": 10,
     "metadata": {},
     "output_type": "execute_result"
    }
   ],
   "source": [
    "page.cropBox"
   ]
  },
  {
   "cell_type": "code",
   "execution_count": 11,
   "metadata": {},
   "outputs": [
    {
     "data": {
      "text/plain": [
       "RectangleObject([0, 0, 1332.28, 720])"
      ]
     },
     "execution_count": 11,
     "metadata": {},
     "output_type": "execute_result"
    }
   ],
   "source": [
    "page.trimBox"
   ]
  },
  {
   "cell_type": "code",
   "execution_count": 12,
   "metadata": {},
   "outputs": [],
   "source": [
    "output = PdfFileWriter()\n"
   ]
  },
  {
   "cell_type": "code",
   "execution_count": null,
   "metadata": {},
   "outputs": [],
   "source": []
  },
  {
   "cell_type": "code",
   "execution_count": 13,
   "metadata": {},
   "outputs": [],
   "source": [
    "\n",
    "def get_dimensions(pdfin1):\n",
    "    page = pdfin1.getPage(2)\n",
    "    double_page_width = page.mediaBox.getUpperRight_x()\n",
    "    page_width = double_page_width/2\n",
    "    page_height = page.mediaBox.getUpperRight_y()\n",
    "    return page_width, page_height\n",
    "\n",
    "page_width, page_height = get_dimensions(pdfin1)"
   ]
  },
  {
   "cell_type": "code",
   "execution_count": null,
   "metadata": {},
   "outputs": [],
   "source": []
  },
  {
   "cell_type": "code",
   "execution_count": 14,
   "metadata": {},
   "outputs": [],
   "source": [
    "page_num = 2\n",
    "\n",
    "left_page = pdfin1.getPage(page_num)\n",
    "left_page.cropBox.upperRight = (page_width, page_height)\n",
    "left_page.trimBox.upperRight = (page_width, page_height)\n",
    "\n",
    "right_page = pdfin2.getPage(page_num)\n",
    "right_page.cropBox.lowerLeft = (page_width, 0)\n",
    "right_page.trimBox.lowerLeft = (page_width, 0)"
   ]
  },
  {
   "cell_type": "code",
   "execution_count": 15,
   "metadata": {},
   "outputs": [
    {
     "name": "stdout",
     "output_type": "stream",
     "text": [
      "RectangleObject([0, 0, 666.14, 720])\n",
      "RectangleObject([666.14, 0, 1332.28, 720])\n"
     ]
    }
   ],
   "source": [
    "print(left_page.cropBox)\n",
    "print(right_page.cropBox)"
   ]
  },
  {
   "cell_type": "code",
   "execution_count": 16,
   "metadata": {},
   "outputs": [],
   "source": [
    "output.addPage(left_page)\n",
    "output.addPage(right_page)"
   ]
  },
  {
   "cell_type": "code",
   "execution_count": 17,
   "metadata": {},
   "outputs": [],
   "source": [
    "pdf_cropped = 'downloads/21CSGuide_English_cropped.pdf'\n",
    "with open(pdf_cropped, \"wb\") as out_f:\n",
    "    output.write(out_f)"
   ]
  },
  {
   "cell_type": "code",
   "execution_count": null,
   "metadata": {},
   "outputs": [],
   "source": []
  },
  {
   "cell_type": "code",
   "execution_count": null,
   "metadata": {},
   "outputs": [],
   "source": []
  },
  {
   "cell_type": "code",
   "execution_count": 18,
   "metadata": {},
   "outputs": [
    {
     "name": "stdout",
     "output_type": "stream",
     "text": [
      "0 normal\n",
      "1 wide\n",
      "2 wide\n",
      "3 wide\n",
      "4 wide\n",
      "5 wide\n",
      "6 wide\n",
      "7 wide\n",
      "8 wide\n",
      "9 wide\n",
      "10 wide\n",
      "11 wide\n",
      "12 wide\n",
      "13 wide\n",
      "14 wide\n",
      "15 wide\n",
      "16 wide\n",
      "17 wide\n",
      "18 wide\n",
      "19 wide\n",
      "20 wide\n",
      "21 wide\n",
      "22 wide\n",
      "23 wide\n",
      "24 wide\n",
      "25 wide\n",
      "26 wide\n",
      "27 wide\n",
      "28 wide\n",
      "29 wide\n",
      "30 wide\n",
      "31 wide\n",
      "32 wide\n",
      "33 wide\n",
      "34 wide\n",
      "35 wide\n",
      "36 wide\n",
      "37 wide\n",
      "38 wide\n",
      "39 wide\n",
      "40 wide\n",
      "41 wide\n",
      "42 wide\n",
      "43 wide\n",
      "44 wide\n",
      "45 wide\n",
      "46 wide\n",
      "47 wide\n",
      "48 wide\n",
      "49 wide\n",
      "50 wide\n",
      "51 wide\n",
      "52 wide\n",
      "53 wide\n",
      "54 wide\n",
      "55 wide\n",
      "56 wide\n",
      "57 wide\n",
      "58 wide\n",
      "59 wide\n",
      "60 wide\n",
      "61 wide\n",
      "62 wide\n",
      "63 wide\n",
      "64 wide\n",
      "65 wide\n",
      "66 wide\n",
      "67 wide\n",
      "68 wide\n",
      "69 wide\n",
      "70 normal\n"
     ]
    }
   ],
   "source": [
    "for page_num in range(0, num_pages):\n",
    "    left_page = pdfin1.getPage(page_num)\n",
    "    this_width = left_page.mediaBox.getUpperRight_x()\n",
    "    \n",
    "    if this_width > float(page_width) + 20:\n",
    "        print(page_num, 'wide')\n",
    "    else:\n",
    "        print(page_num, 'normal')"
   ]
  },
  {
   "cell_type": "code",
   "execution_count": null,
   "metadata": {},
   "outputs": [],
   "source": []
  },
  {
   "cell_type": "code",
   "execution_count": null,
   "metadata": {},
   "outputs": [],
   "source": []
  },
  {
   "cell_type": "code",
   "execution_count": null,
   "metadata": {},
   "outputs": [],
   "source": []
  }
 ],
 "metadata": {
  "kernelspec": {
   "display_name": "Python 3",
   "language": "python",
   "name": "python3"
  },
  "language_info": {
   "codemirror_mode": {
    "name": "ipython",
    "version": 3
   },
   "file_extension": ".py",
   "mimetype": "text/x-python",
   "name": "python",
   "nbconvert_exporter": "python",
   "pygments_lexer": "ipython3",
   "version": "3.7.3"
  }
 },
 "nbformat": 4,
 "nbformat_minor": 2
}
